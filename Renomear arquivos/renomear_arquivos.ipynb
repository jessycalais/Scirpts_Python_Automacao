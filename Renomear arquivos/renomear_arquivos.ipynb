{
 "cells": [
  {
   "cell_type": "markdown",
   "id": "fa266d35",
   "metadata": {},
   "source": [
    "#### **Introdução**\n",
    "\n",
    "Neste exemplo, a pasta que contém o código contém uma subpasta com os arquivos que queremos verificar.\n",
    "\n",
    "A subpasta está nomeada como `arquivos_para_verificacao`.\n",
    "\n",
    "O *primeiro passo* é fazer os imports das bibliotecas:\n"
   ]
  },
  {
   "cell_type": "code",
   "execution_count": 1,
   "id": "d027d57e",
   "metadata": {},
   "outputs": [],
   "source": [
    "import os\n",
    "from glob import glob"
   ]
  },
  {
   "cell_type": "markdown",
   "id": "e8fc7777",
   "metadata": {},
   "source": [
    "Agora vamos aos próximos passos.\n",
    "\n",
    "Para percorrer todos os arquivos da pasta a ser verificada, independentemente do formato, podemos utilizar o \"*\" no método `glob()`da biblioteca **glob**:\n"
   ]
  },
  {
   "cell_type": "code",
   "execution_count": 2,
   "id": "c1ca6d0e",
   "metadata": {},
   "outputs": [],
   "source": [
    "pasta = 'arquivos_para_verificacao'\n",
    "arquivos = glob(f'{pasta}/*')  # o * pega todos os formatos de arquivo"
   ]
  },
  {
   "cell_type": "markdown",
   "id": "f74ba68b",
   "metadata": {},
   "source": [
    "Agora, iremos determinar as datas de modificação de cada arquivo e verificar qual a maior delas:\n"
   ]
  },
  {
   "cell_type": "code",
   "execution_count": 3,
   "id": "b575aae1",
   "metadata": {},
   "outputs": [
    {
     "name": "stdout",
     "output_type": "stream",
     "text": [
      "O último arquivo modificado foi: exemplo02.docx\n"
     ]
    }
   ],
   "source": [
    "# O método getmtime retorna a data de modificação de um arquivo\n",
    "datas_de_modificacao = [os.path.getmtime(arquivo) for arquivo in arquivos]  \n",
    "\n",
    "# O método max() retorna a maior data da lista 'datas_de_modificação'\n",
    "maximo = max(datas_de_modificacao) \n",
    "\n",
    "# retorna o índice do último arquivo alterado na lista 'datas_de_modificacao'\n",
    "indice = datas_de_modificacao.index(maximo) \n",
    "\n",
    "# Nome do último arquivo modificado antes de renomearmos\n",
    "print(f'O último arquivo modificado foi: {os.path.basename(arquivos[indice])}')"
   ]
  },
  {
   "cell_type": "markdown",
   "id": "4bf2479e",
   "metadata": {},
   "source": [
    "A seguir, utilizaremos o método `os.path.splitext()` para determinar a ***extensão do arquivo*** a ser renomeado (.pdf, .txt,. xlsx, etc).\n",
    "\n",
    "Já o método `os.rename()` será utilizado para renomear o arquivo. Ele recebe o nome original e o novo nome.\n",
    "\n",
    "Veja:\n"
   ]
  },
  {
   "cell_type": "code",
   "execution_count": 4,
   "id": "7d1f9fa5",
   "metadata": {},
   "outputs": [
    {
     "name": "stdout",
     "output_type": "stream",
     "text": [
      "A extensão do arquivo a ser renomeado é: .docx\n"
     ]
    }
   ],
   "source": [
    "# Formato do último arquivo modificado\n",
    "formato = os.path.splitext(arquivos[indice])[1]\n",
    "print(f'A extensão do arquivo a ser renomeado é: {formato}')\n",
    "\n",
    "# Troca o nome inicial do arquivo de última modificacao\n",
    "os.rename(arquivos[indice], ('').join([pasta, '\\\\', 'novo_nome', formato]))"
   ]
  },
  {
   "cell_type": "markdown",
   "id": "6029478c",
   "metadata": {},
   "source": [
    "Feito!\n",
    "\n",
    "Vamos verificar o novo nome do arquivo de última data de modificação?\n"
   ]
  },
  {
   "cell_type": "code",
   "execution_count": 5,
   "id": "caea8992",
   "metadata": {},
   "outputs": [
    {
     "name": "stdout",
     "output_type": "stream",
     "text": [
      "novo_nome.docx\n"
     ]
    }
   ],
   "source": [
    "arquivos = glob(f'{pasta}/*')\n",
    "print(os.path.basename(arquivos[indice]))"
   ]
  }
 ],
 "metadata": {
  "kernelspec": {
   "display_name": "Python 3 (ipykernel)",
   "language": "python",
   "name": "python3"
  },
  "language_info": {
   "codemirror_mode": {
    "name": "ipython",
    "version": 3
   },
   "file_extension": ".py",
   "mimetype": "text/x-python",
   "name": "python",
   "nbconvert_exporter": "python",
   "pygments_lexer": "ipython3",
   "version": "3.11.5"
  }
 },
 "nbformat": 4,
 "nbformat_minor": 5
}
