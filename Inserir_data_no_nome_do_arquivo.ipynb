{
  "nbformat": 4,
  "nbformat_minor": 0,
  "metadata": {
    "colab": {
      "provenance": [],
      "authorship_tag": "ABX9TyPy78Bd6Hz/ixMzjW17bzjj",
      "include_colab_link": true
    },
    "kernelspec": {
      "name": "python3",
      "display_name": "Python 3"
    },
    "language_info": {
      "name": "python"
    }
  },
  "cells": [
    {
      "cell_type": "markdown",
      "metadata": {
        "id": "view-in-github",
        "colab_type": "text"
      },
      "source": [
        "<a href=\"https://colab.research.google.com/github/jessycalais/Scripts_Python/blob/main/Inserir_data_no_nome_do_arquivo.ipynb\" target=\"_parent\"><img src=\"https://colab.research.google.com/assets/colab-badge.svg\" alt=\"Open In Colab\"/></a>"
      ]
    },
    {
      "cell_type": "markdown",
      "source": [
        "Já precisou exportar seu DataFrame para um arquivo \".xlsx\", por exemplo, mas gostaria que o nome tivesse a data?\n",
        "\n",
        "Que tal fazer isso de forma automatizada, sem precisar editar o código para colocar a data toda vez que rodar o script que exporta o DataFrame?\n",
        "\n",
        "Inclusive esse caminho serve para qualquer script que você use e precise nomear o arquivo com a \"data do dia\".\n",
        "\n",
        "Curti a opção - e vocês?"
      ],
      "metadata": {
        "id": "jpDVk5DNffun"
      }
    },
    {
      "cell_type": "code",
      "execution_count": null,
      "metadata": {
        "id": "prdoAXIKfJbP"
      },
      "outputs": [],
      "source": [
        "# Imports de pacotes built-in\n",
        "import datetime\n",
        "\n",
        "# Imports de pacotes de terceiros\n",
        "import pandas as pd\n",
        "\n",
        "# Ler arquivo\n",
        "df = pd.read_excel('exemplo01.xlsx')\n",
        "\n",
        "# Faça sua análise/tratamento, etc\n",
        "# ...\n",
        "\n",
        "# DATA - Exemplo: 20-03-2024\n",
        "HOJE = datetime.date.today().strftime(\"%d-%m-%Y\")\n",
        "\n",
        "# Nome do arquivo exportado\n",
        "NOME_ARQUIVO = f'exemplo02_{DATA}.xlsx'\n",
        "\n",
        "# Exportar\n",
        "df.to_excel(NOME_ARQUIVO, index=False)"
      ]
    }
  ]
}