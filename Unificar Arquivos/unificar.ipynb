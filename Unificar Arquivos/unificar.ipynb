{
 "cells": [
  {
   "cell_type": "code",
   "execution_count": 1,
   "metadata": {},
   "outputs": [],
   "source": [
    "# Imports\n",
    "import pandas as pd\n",
    "from glob import glob \n",
    "import datetime"
   ]
  },
  {
   "cell_type": "code",
   "execution_count": 2,
   "metadata": {},
   "outputs": [],
   "source": [
    "# Percorrer os arquivos xlsx\n",
    "listar_endereco = glob(r'arquivos/*xlsx')\n",
    "\n",
    "# Lista para receber as tabelas que usarei no \"concat\"\n",
    "lista_unificada = [] \n",
    "\n",
    "# Loop para salvar arquivos como tabela no Pandas\n",
    "for arquivo in listar_endereco:\n",
    "    try:  \n",
    "        # Ler arquivo       \n",
    "        tabela_df = pd.read_excel(arquivo)  \n",
    "\n",
    "        # Identificar arquivo de origem - excluindo as substrings \"arquivos/\" e \".xlsx\"\n",
    "        n = len(tabela_df.index)\n",
    "        tabela_df.index = [arquivo[9:-5] for i in range(n)] \n",
    "\n",
    "        # Criando a lista de DataFrames para usar no concat        \n",
    "        lista_unificada.append(tabela_df)\n",
    "        \n",
    "    except Exception as erro:\n",
    "        print(f'Erro {erro} encontrado no arquivo {arquivo}. Verifique!')\n",
    "\n",
    "# Data e Nome do arquivo compilado\n",
    "HOJE = datetime.date.today().strftime(\"%d-%m-%Y\")\n",
    "NOME_ARQUIVO = f'PlanilhasUnificadas_{HOJE}.xlsx'\n",
    "\n",
    "# Gerar tabela unificada com o concat da biblioteca Pandas e exportar para o excel no formato xlsx\n",
    "tabela_unificada = pd.concat(lista_unificada)\n",
    "tabela_unificada.to_excel(NOME_ARQUIVO)"
   ]
  },
  {
   "cell_type": "code",
   "execution_count": 7,
   "metadata": {},
   "outputs": [],
   "source": [
    "# Percorrer os arquivos xlsx\n",
    "listar_endereco = glob(r'arquivos/*xlsx')\n",
    "\n",
    "# Lista para receber as tabelas que usarei no \"concat\"\n",
    "lista_unificada = []\n",
    "chaves = []\n",
    "\n",
    "# Loop para salvar arquivos como tabela no Pandas\n",
    "for arquivo in listar_endereco:\n",
    "    \n",
    "    # Lista para identificar o arquivo de origem\n",
    "    nome_arquivo = [] \n",
    "\n",
    "    try:  \n",
    "        # Ler arquivo       \n",
    "        tabela_df = pd.read_excel(arquivo)  \n",
    "\n",
    "        # Identificar arquivo de origem - sem \"arquivos/\" e \".xlsx\"\n",
    "        lista_unificada.append(tabela_df)\n",
    "        chaves.append(arquivo[9:-4])  \n",
    "\n",
    "    except Exception as erro:\n",
    "        print(f'Erro {erro} encontrado no arquivo {nome_arquivo}. Verifique!')\n",
    "\n",
    "# Data e Nome do arquivo compilado\n",
    "HOJE = datetime.date.today().strftime(\"%d-%m\")\n",
    "NOME_ARQUIVO = f'PlanilhasUnificadas_{HOJE}.xlsx'\n",
    "\n",
    "# Gerar tabela unificada com o concat da biblioteca Pandas e exportar para o excel no formato xlsx\n",
    "tabela_unificada = pd.concat(lista_unificada, keys=chaves, ignore_index=True)\n",
    "tabela_unificada.to_excel(NOME_ARQUIVO)"
   ]
  }
 ],
 "metadata": {
  "kernelspec": {
   "display_name": "Python 3",
   "language": "python",
   "name": "python3"
  },
  "language_info": {
   "codemirror_mode": {
    "name": "ipython",
    "version": 3
   },
   "file_extension": ".py",
   "mimetype": "text/x-python",
   "name": "python",
   "nbconvert_exporter": "python",
   "pygments_lexer": "ipython3",
   "version": "3.11.5"
  },
  "orig_nbformat": 4
 },
 "nbformat": 4,
 "nbformat_minor": 2
}
